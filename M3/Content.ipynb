{
 "cells": [
  {
   "attachments": {},
   "cell_type": "markdown",
   "metadata": {},
   "source": []
  },
  {
   "attachments": {},
   "cell_type": "markdown",
   "metadata": {},
   "source": [
    "## Seleção de Atividades\n",
    "O objetivo é deixar é manter uma atividade que não tenham intersecção entre si, dentro de um intervalo de tempo. \n",
    "__Considerações:__ \n",
    "- intervalo de tempo fixo. \n",
    "\n",
    "\n",
    "### Exemplo de caso: \n",
    "Suponhamos a semana SECOMP, em que temos uma vasta gama de atividades a serem escolhidas. Com a grande quantidade de atividades a serem escolhidas, temos que decidir qual maior possibilidade de cursos. \n",
    "Aplicação do algoritmo \n",
    "Porque iniciamos por tentativa e erro ? Porque a questão de formalidade é complexa. Para algoritmos gulosos, recorrer a uma solução formal pode não ser tão efetivo como divisão e conquista, por exemplo.\n",
    "\n",
    "__Algoritmo__\n",
    "1. Inicia o conjunto A -- vazio. \n",
    "2. Escolher uma atividade de forma gulosa e adicione em A.\n",
    "3. Remova todas as atividades que possuem intersecção com A. \n",
    "4. Caso ainda haja atividades, retorna em 2. \n",
    "5. Retorne A.\n",
    "\n",
    "\n",
    "\n",
    "\n",
    "\n",
    "OBS: Algoritmos Gulosos têm uma tendencia a ser da ordem de `O(n²)`. Seu objetivo como programador, é aproximar-se de `O(n+nlog(n))`"
   ]
  },
  {
   "attachments": {},
   "cell_type": "markdown",
   "metadata": {},
   "source": [
    "# Algoritmos Gulosos - pt.3\n",
    "\n",
    "\n",
    "## Grafos - Definições\n",
    "Temos dois tipos de Grafos: Direcionados e Não Direcionados. Mas antes, temos que levar em conta que temos apenas 2 elementos na composição do Grafo. Estes elementos são Vértices e Arestas. \n",
    "Veja a imagem abaixo para melhor entendimento:\n",
    "<img src=\"img/relacao_vA.png\">"
   ]
  },
  {
   "attachments": {},
   "cell_type": "markdown",
   "metadata": {},
   "source": [
    "A unica diferença, quando temos um grafo direcionado é o sentido que podemos transitar entre os nós. \n",
    "\n",
    "Uma característica marcante para diferenciarmos a relação entre estes dois tipos de grafos é a matriz de adjacência, da qual a trasposta continua sendo equivalente para ambos os casos. \n",
    "\n",
    "<img src=\"img/relacao_vA_dir.png\">"
   ]
  },
  {
   "attachments": {},
   "cell_type": "markdown",
   "metadata": {},
   "source": [
    "## Subgrafos - Definições\n",
    "Subgrafo, como o nome ja diz, é uma parte de Grafo já existente. Com isso, podemos dizer que este subgrafo pode ser \n",
    "$\\mathcal{H}\\subseteq \\mathcal{G}$\n",
    "\n",
    "<img src='img/subgrafo_def.png'>"
   ]
  },
  {
   "attachments": {},
   "cell_type": "markdown",
   "metadata": {},
   "source": [
    "## Arvore Geradora\n",
    "Toda Arvore Geradora de um Grafo Conexo(interligação entre todos os vértices), é um subgrafo gerado que é uma arvore.\n",
    "- toda arvore é um grafo conexo e aciclico \n",
    "- um grafo pode ter varias arvores geradoras\n",
    "- todo Grafo possui arvore geradora\n",
    "\n",
    "\n",
    "### Aplicações dp uso de Arvore Geradora Minima\n",
    "Seu uso mais recorrente é baseado em menor cobertura de pontos em relação a passagem entre cada ponto.  Com isso, podemos aplicar em diversas areas de engenharia: \n",
    "- projetos de redes. \n",
    "- Rede de transmissao de energia \n",
    "- projeto de Rodovias, etc...\n",
    "\n",
    "`Mas como realizamos buscas nos Grafos?`\n",
    "- BFS - Busca em Largura\n",
    "- DFS - Busca em Profundidade\n",
    "- Genérica - busca em todos os grafos que podem ser encontrados com um vértice inicial. "
   ]
  },
  {
   "attachments": {},
   "cell_type": "markdown",
   "metadata": {},
   "source": [
    "```py\n",
    "def BuscaGenerica(G,s): \n",
    "    Desmarca_vertices(G)\n",
    "    u = escolhe_vertice(G)\n",
    "    marca_descoberto(u)\n",
    "    while(!vertices_descobertos(G)):\n",
    "        v = seleciona_vertice(G)\n",
    "        if(!aresta_explorada(u,v)):\n",
    "            marca_descoberto(v)\n",
    "        marca_explorado(u)\n",
    "```"
   ]
  },
  {
   "attachments": {},
   "cell_type": "markdown",
   "metadata": {},
   "source": [
    "### Algoritmo de Busca em Largura\n",
    "Ideia geral: A ideia geral deste algoritmo é o uso da busca no nível que estamos localizado. Com isso, temos que a ideia é processar nível a nível do nosso grafo\n",
    "\n",
    "\n",
    "\n",
    "<img src=\"img/BFS.png\">"
   ]
  },
  {
   "attachments": {},
   "cell_type": "markdown",
   "metadata": {},
   "source": [
    "Tomemos algumas considerações como colorações durante o processo de busca no Grafo:\n",
    "- Branco: Nao visitado \n",
    "- Cinza : Visitado\n",
    "- Preto : Visitado e seus nós adjacentes visitados\n",
    "\n",
    "`Estruturas Adicionais para busca:` \n",
    "- c: vetor de cores\n",
    "- $\\pi$: vetor predecessores\n",
    "- d:distancia do vertice `u` ao vértice `s`\n",
    "- Q: Fila contendo os vértices já descobertos em largura\n",
    "```py\n",
    "for u in V:\n",
    "    color[u] = B\n",
    "    d[u] = infinity\n",
    "    π[u] = NULL\n",
    "# Caso de grafos não conectado\n",
    "for u in V:\n",
    "    if color[u] = B:\n",
    "    BFS(G, u)\n",
    "\n",
    "def BFS(G, s):\n",
    "    color[s] = C\n",
    "    d[s] = 0\n",
    "    Q.add(s)\n",
    "    while Q != NULL:\n",
    "        u = Q.dequeue()\n",
    "    for v in N(u) :\n",
    "        if(color[v] == B):\n",
    "        # processar o vértice\n",
    "        color[v] = G\n",
    "        d[v] = d[u] + 1\n",
    "        π[v] = u\n",
    "        Q.enqueue(v)\n",
    "        color[u] = P\n",
    "```"
   ]
  },
  {
   "attachments": {},
   "cell_type": "markdown",
   "metadata": {},
   "source": [
    "## Complexidade\n",
    "A complexidade de BFS é $\\mathcal{O(n+m)}$, linear ao numero de arestas. \n",
    "Sendo que:\n",
    "- Redes esparsas: $m\\approx n$\n",
    "- Redes Densas:   $m\\approx n^2$\n",
    "\n",
    "<img src=\"img/density.png\">"
   ]
  },
  {
   "attachments": {},
   "cell_type": "markdown",
   "metadata": {},
   "source": [
    "## Busca em Profundidade\n",
    "Buscamos em profundidade ao grafo que temos, isso significa que temos como ideia principal a busca pelo grafo mais recentemente descoberto. Visualmente, temos que a busca é feita verticalmente. Quando o trajeto encontrado é totalmente explorado, fazemos o _backtracking_ para o seu predecessor\n",
    "\n",
    "<img src=\"img/DFS.png\">\n",
    "\n",
    "\n",
    "```py\n",
    "DFS(𝓖):\n",
    "    for u in V:\n",
    "        color[𝑢] = B\n",
    "        π[𝑢] = NULL\n",
    "        d[𝑢] = ∞\n",
    "        f[𝑢] = ∞\n",
    "        time = 0\n",
    "        for 𝑢 in V:\n",
    "            if color[𝑢] = B:\n",
    "            DFSvisit(𝓖, 𝑢)\n",
    "DFSvisit(𝓖, 𝑢):\n",
    "    color[𝑢] = C\n",
    "    d[𝑢] = time\n",
    "    time = time + 1\n",
    "    for 𝑣 in 𝓝 𝑢 :\n",
    "        if color[𝑣] = B:\n",
    "            π[𝑣] = 𝑢\n",
    "            DFSvisit(𝑣)\n",
    "            color[𝑢] = black\n",
    "            f[𝑢] = time\n",
    "            time = time + 1\n",
    "\n",
    "```"
   ]
  }
 ],
 "metadata": {
  "kernelspec": {
   "display_name": "Python 3",
   "language": "python",
   "name": "python3"
  },
  "language_info": {
   "codemirror_mode": {
    "name": "ipython",
    "version": 3
   },
   "file_extension": ".py",
   "mimetype": "text/x-python",
   "name": "python",
   "nbconvert_exporter": "python",
   "pygments_lexer": "ipython3",
   "version": "3.10.6"
  },
  "orig_nbformat": 4,
  "vscode": {
   "interpreter": {
    "hash": "916dbcbb3f70747c44a77c7bcd40155683ae19c65e1c03b4aa3499c5328201f1"
   }
  }
 },
 "nbformat": 4,
 "nbformat_minor": 2
}
