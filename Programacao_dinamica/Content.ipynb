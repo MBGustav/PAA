{
 "cells": [
  {
   "attachments": {},
   "cell_type": "markdown",
   "metadata": {},
   "source": [
    "# Programação Dinâmica\n",
    " "
   ]
  },
  {
   "attachments": {},
   "cell_type": "markdown",
   "metadata": {},
   "source": [
    "Neste tópico, será abordado sobre o uso de programação dinamica: suas dificuldades e facilidades.\n",
    "\n",
    "-----"
   ]
  },
  {
   "attachments": {},
   "cell_type": "markdown",
   "metadata": {},
   "source": [
    "Apesar do seu funcionamento, temos alguns entraves quanto ao seu uso. Por conta de sua modelagem, problemas que envolvem dependencias de sub-problemas geralmente não tem uma solução favoravel.\n",
    "\n",
    "A vantagem de sua modelagem, é a facilidade quanto a sua associação de outros modelos já apresentados:\n",
    "- Algoritmos Gulosos\n",
    "- Métodos de Memorização\n",
    "- etc\n",
    "\n",
    "\n",
    "Mas antes, devemos saber uma maneira de lidar com um sistema de recorrencia para resolver os problemas\n"
   ]
  },
  {
   "attachments": {},
   "cell_type": "markdown",
   "metadata": {},
   "source": [
    "## Exemplo Inicial - Fibonacci \n",
    "Já sabemos que a formação de Fibonacci é composta pela soma dos seus dois ultimos antecessores, cuja forma:\n",
    "```\n",
    "0, 1, 1, 2, 5, 8, 13, 21, 34, 55, ... \n",
    "```\n",
    "É trivial que a declaração de Fibonacci pode ser apresentado por uma recursao\n"
   ]
  },
  {
   "cell_type": "code",
   "execution_count": 1,
   "metadata": {},
   "outputs": [],
   "source": [
    "def fibonacci(n):\n",
    "    if n in {0, 1}:\n",
    "        return n\n",
    "    else:\n",
    "        return fibonacci(n - 1) + fibonacci(n - 2)\n",
    "\n",
    "\n"
   ]
  },
  {
   "attachments": {},
   "cell_type": "markdown",
   "metadata": {},
   "source": [
    "Na imagem abaixo, podemos ver que temos certos prejuízos porque temos recálculos de números equivalentes \n",
    "\n",
    "\n",
    "<img src = 'img/fib_naive.png'>"
   ]
  },
  {
   "attachments": {},
   "cell_type": "markdown",
   "metadata": {},
   "source": [
    "O Algoritmo de Prog. Dinamica podem (ou não) fazer uso de ferramenta de recursão. \n"
   ]
  },
  {
   "attachments": {},
   "cell_type": "markdown",
   "metadata": {},
   "source": []
  },
  {
   "attachments": {},
   "cell_type": "markdown",
   "metadata": {},
   "source": [
    "## Tipos de Metodologias de Prog. Dinâmica\n",
    "Umas  das características dos algoritmos de programação dinamicas sao memorização, divisao de problemas em sub-problemas e ... \n",
    "Além disso, nosso problema _pode_ ter recursividade, mas geralmente partilha da recorrência.\n",
    "\n",
    "### 1. Top-down\n",
    "\n",
    "\n",
    "\n",
    "### 2. Bottom-up\n",
    "\n",
    "\n",
    "\n",
    "\n",
    "\n"
   ]
  },
  {
   "attachments": {},
   "cell_type": "markdown",
   "metadata": {},
   "source": [
    "### 2. Bottom-up\n",
    "\n",
    "Geralmente, é feito pelo uso de matrizes ou vetores em busca do desempenho. Por exemplo:\n",
    "\n",
    "<TODO> COLOCA IMAGEM DE EXEMPLO:\n",
    "\n",
    "\n",
    "\n",
    "\n",
    "-----\n",
    "A definiçao de PRog. Dinamcica consiste em: resolver subproblemasa, Memorizar, \n"
   ]
  },
  {
   "attachments": {},
   "cell_type": "markdown",
   "metadata": {},
   "source": [
    "## Ex.: Problema da Moeda \n",
    "Suponhamos que temos um conjunto `M` de moedas:\n",
    "Suponha que `t(n)` seja meu troco ótimo e que `x` é uma moeda que faz parte de uma solução ótima `t(p)`, sendo que:\n",
    "`t(x) = (1+t(p-y), y)`\n",
    "\n",
    "Essa função `t(x)` retorna a quantidade de moedas que serão fornecidas como solução ótima\n",
    "```\n",
    "M = {1,2,3}\n",
    "n  = 5\n",
    "```\n",
    "\n",
    "\n",
    "<img src = 'img/res_troco.png'>"
   ]
  },
  {
   "attachments": {},
   "cell_type": "markdown",
   "metadata": {},
   "source": [
    "Podemos ver pela arvore na imagem, que temos um teste exaustivo de comparação de moedas, recalculando cada possibilidade de combinação de moedas.\n",
    "\n",
    "Cada moeda escolhida gera uma recorrencia própria, que a cada passo gera uma possibilidade de troco. Uma questão importante é que temos bastante casos de recálculo em nosso exemplo. \n",
    "\n",
    "OBS: As vezes, podemos ter casos de composição em nossa arvore. Isso permite que possamos reduzir o total de cálculos repetitivos - poda de casos ja calculados.\n",
    "\n",
    "\n",
    "\n",
    "\n",
    "<img src = 'img/tabela_troco.png'>\n",
    "\n",
    "\n",
    "__Caminhando pela Arvore - via Tabela:__ Podemos ver que na segunda linha, temos a possibilidade de usar uma moeda de 2 centavos. O algoritmo deve tomar a decisão: usar a solução da moeda anterior (__Linha Acima__), ou buscar uma nova combinação com menor numero de moedas. Essa combinação é feita da seguinte maneira:\n",
    "\n",
    "Faremos a análise com base no troco, fazendo a soma em conjunto com a solução anterior.\n",
    "\n",
    "\n",
    "\n",
    "<img src='img/Tabelas.png'>\n",
    "\n",
    "t(2) =  1 + t(2-2 ) ==1 + t(0)\n",
    "Outro exemplo: \n",
    "\n",
    "\n",
    "<!-- O algoritmo de programação pode tentar todas as soluções, mas é possivel realizarmos podas por meio de memorização.\n",
    "Esse reaproveitamento é feito  -->\n",
    "\n"
   ]
  },
  {
   "attachments": {},
   "cell_type": "markdown",
   "metadata": {},
   "source": [
    "### Principio da Otimalidade de Bellman\n",
    "De eu tiver uma solução otima, podemos usar o pro\n",
    "Ou seja, eu tenho um problema grande para a resolu\n",
    "\n"
   ]
  },
  {
   "attachments": {},
   "cell_type": "markdown",
   "metadata": {},
   "source": [
    "## Exemplo - Problema do Troco\n"
   ]
  },
  {
   "attachments": {},
   "cell_type": "markdown",
   "metadata": {},
   "source": [
    "# PArte 02:\n",
    "Soma máxima de subsequencia:\n",
    "Nosso algoritmo irá utilizar uma matrix compactada , com o principio.\n",
    "\n",
    "A seguda linha, é a composição de soma que temos até o momento (prog. dinamica sempre fornece o resultado no ultimo quadrado, ou célula). \n",
    "A ideia é ligeiramente simples, ou mantemos o valor atual, ou adicionamso o valor acumulado do anterior e com o atual.\n",
    "\n",
    "<img src='img/tabela_smax.png'>\n",
    "\n"
   ]
  },
  {
   "attachments": {},
   "cell_type": "markdown",
   "metadata": {},
   "source": [
    "\n",
    "\n",
    "\n",
    "```py\n",
    "def kadane(items):\n",
    "    best_sum = items[0]\n",
    "    cur_sum = items[0]\n",
    "    for item in items:\n",
    "        cur_sum = max(cur_sum+item, item)\n",
    "        best_sum = max(best_sum, cur_sum)\n",
    "    \n",
    "\n",
    "\n",
    "def dp(coins, amount): \n",
    "    memo = [[]]\n",
    "    for \"1st loop \": \n",
    "    \n",
    "        for \"2nd loop\":\n",
    "            if \"cumpre restricao\":\n",
    "                memo[i][j] = calc(\"altera estado\" + \"calc\", \"nao altera estado\")\n",
    "```\n",
    "\n"
   ]
  },
  {
   "attachments": {},
   "cell_type": "markdown",
   "metadata": {},
   "source": [
    "## Mochila Inteira\n",
    "Como ja vimos anteiriormente, iremos abordar o problema da mochila. Objetivo inicial é encontrar um subconjunto que maximize a soma de valores a colocar na mochila\n",
    "$$\n",
    "max \\sum s_i\n",
    "$$\n",
    "\n",
    "Conforme visto anteriormente, vimos que no algoritmo Guloso que englobamos o maior valor, podendo, inclusive chegar apenas no melhor local. \n",
    "\n",
    "Para algoritmos de Programação Dinâmica, chegamos ao máximo global - testando todas possibilidades. \n",
    "\n",
    "Para planejamento de um algoritmo de Prog. Dinamica, seguimos os passos: \n",
    "1. Caso Base: _Mochila Cheia_\n",
    "2. Caso Receorrencia: $max(v_{i-1,C}, v_i+v_{i-1,C-S_i})$\n",
    "\n",
    "\n",
    "Solução \n",
    "1. Nao adicionar o item $S_i$ na mochila\n",
    "2. Adicionar o item $S_i$ corrente na mochila \n",
    "    Se não cabe, volta ao caso 1.\n",
    "    Se cabe, reduzimos a capacidade da mochila.\n",
    "\n",
    "\n",
    "OBS: Em programação Dinâmica, sempre recuperamos informações. \n"
   ]
  },
  {
   "attachments": {},
   "cell_type": "markdown",
   "metadata": {},
   "source": [
    "## Distancia de Edição (ED)\n",
    "Entrada \n",
    "\n",
    "Objetivo \n",
    "- Transformar uma cadeia de caracteres x em y\n",
    "Edicão\n",
    "- Insere\n",
    "- Remove\n",
    "- Substitui"
   ]
  },
  {
   "attachments": {},
   "cell_type": "markdown",
   "metadata": {},
   "source": [
    "----\n",
    "Para Trabalharmos com Programação Dinâmica, trabalhamos com recorrência. Quando nao temos a presença de recorrencia, devemos forçar o problema em sub-problemas menores\n",
    "\n",
    "**porque nao devemos considerar o metodo de programação dinamica um problema de divisão e conquista?** \n",
    "\n",
    "\n"
   ]
  },
  {
   "attachments": {},
   "cell_type": "markdown",
   "metadata": {},
   "source": [
    "## Algoritmo da Edição \n",
    "\n",
    "Neste algoritmo, temos a quantidade total de edição para diferença entre palavras $x$ e $y$:\n"
   ]
  },
  {
   "cell_type": "code",
   "execution_count": null,
   "metadata": {},
   "outputs": [],
   "source": [
    "def ED(x,y,i,j): \n",
    "    #caso base \n",
    "    if(i == 0):\n",
    "        return i\n",
    "    if(j == 0):\n",
    "        return j\n",
    "    "
   ]
  }
 ],
 "metadata": {
  "kernelspec": {
   "display_name": "Python 3",
   "language": "python",
   "name": "python3"
  },
  "language_info": {
   "codemirror_mode": {
    "name": "ipython",
    "version": 3
   },
   "file_extension": ".py",
   "mimetype": "text/x-python",
   "name": "python",
   "nbconvert_exporter": "python",
   "pygments_lexer": "ipython3",
   "version": "3.10.6"
  },
  "orig_nbformat": 4,
  "vscode": {
   "interpreter": {
    "hash": "916dbcbb3f70747c44a77c7bcd40155683ae19c65e1c03b4aa3499c5328201f1"
   }
  }
 },
 "nbformat": 4,
 "nbformat_minor": 2
}
